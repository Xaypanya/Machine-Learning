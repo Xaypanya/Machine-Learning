{
  "cells": [
    {
      "cell_type": "markdown",
      "metadata": {
        "id": "view-in-github",
        "colab_type": "text"
      },
      "source": [
        "<a href=\"https://colab.research.google.com/github/Xaypanya/Machine-Learning/blob/main/Lab3_2_Confusion_Matrix2.ipynb\" target=\"_parent\"><img src=\"https://colab.research.google.com/assets/colab-badge.svg\" alt=\"Open In Colab\"/></a>"
      ]
    },
    {
      "cell_type": "markdown",
      "metadata": {
        "id": "KujeXQ4sxIKc"
      },
      "source": [
        "## Binary Classification: Confusion Matrix"
      ]
    },
    {
      "cell_type": "markdown",
      "metadata": {
        "id": "457WEg1SxIKh"
      },
      "source": [
        "---\n",
        "* author:  [Prasert Kanawattanachai](prasert.k@chula.ac.th)\n",
        "* YouTube: https://www.youtube.com/prasertcbs\n",
        "* github: https://github.com/prasertcbs/scikitlearn_tutorial\n",
        "* [Chulalongkorn Business School](https://www.cbs.chula.ac.th/en/)\n",
        "---"
      ]
    },
    {
      "cell_type": "code",
      "execution_count": null,
      "metadata": {
        "id": "Ul1F1WhHxIKi"
      },
      "outputs": [],
      "source": [
        "import pandas as pd\n",
        "import numpy as np\n",
        "import seaborn as sns\n",
        "import matplotlib.pyplot as plt\n",
        "%matplotlib inline\n",
        "%config InlineBackend.figure_format='retina'"
      ]
    },
    {
      "cell_type": "code",
      "execution_count": null,
      "metadata": {
        "id": "c8ka740pxIKk"
      },
      "outputs": [],
      "source": [
        "print(f'pandas  version = {pd.__version__}')\n",
        "print(f'numpy   version = {np.__version__}')\n",
        "print(f'seaborn version = {sns.__version__}')"
      ]
    },
    {
      "cell_type": "markdown",
      "metadata": {
        "collapsed": "false",
        "id": "0HAdQiG4xIKl"
      },
      "source": [
        "### data source\n",
        "https://en.wikipedia.org/wiki/Logistic_regression#Probability_of_passing_an_exam_versus_hours_of_study"
      ]
    },
    {
      "cell_type": "code",
      "execution_count": null,
      "metadata": {
        "scrolled": true,
        "id": "GxCDBL_BxIKl"
      },
      "outputs": [],
      "source": [
        "df=pd.read_csv('https://github.com/prasertcbs/basic-dataset/raw/master/study_hours.csv')\n",
        "df.T"
      ]
    },
    {
      "cell_type": "code",
      "execution_count": null,
      "metadata": {
        "id": "KtcbYENqxIKm"
      },
      "outputs": [],
      "source": [
        "sns.lmplot(x='Hours', y='Pass', data=df,\n",
        "           logistic=True, height=4, aspect=1.5, \n",
        "           line_kws={'color': 'orange'})\n",
        "plt.ylabel('Probability of passing exam');\n",
        "plt.axvline(2.71, color='green', linestyle='--')\n",
        "plt.axhline(.5, color='red', linestyle='--');"
      ]
    },
    {
      "cell_type": "markdown",
      "metadata": {
        "id": "rZ2NG_KPxIKn"
      },
      "source": [
        "# Scikit-learn: LogisticRegression\n",
        "doc: https://scikit-learn.org/stable/modules/generated/sklearn.linear_model.LogisticRegression.html"
      ]
    },
    {
      "cell_type": "code",
      "execution_count": null,
      "metadata": {
        "id": "7H3mhTYxxIKo"
      },
      "outputs": [],
      "source": [
        "import sklearn\n",
        "from sklearn.model_selection import train_test_split\n",
        "from sklearn.linear_model import LogisticRegression"
      ]
    },
    {
      "cell_type": "code",
      "execution_count": null,
      "metadata": {
        "id": "iTFfNk1WxIKp"
      },
      "outputs": [],
      "source": [
        "print(f\"sklearn version = {sklearn.__version__}\")"
      ]
    },
    {
      "cell_type": "code",
      "execution_count": null,
      "metadata": {
        "id": "tCOblfAjxIKq"
      },
      "outputs": [],
      "source": [
        "X_train = df[['Hours']]\n",
        "y_train = df.Pass"
      ]
    },
    {
      "cell_type": "code",
      "execution_count": null,
      "metadata": {
        "scrolled": true,
        "id": "Ld2p9SB8xIKq"
      },
      "outputs": [],
      "source": [
        "X_train # pandas DataFrame"
      ]
    },
    {
      "cell_type": "code",
      "execution_count": null,
      "metadata": {
        "id": "hc30TjE-xIKr"
      },
      "outputs": [],
      "source": [
        "y_train # pandas Series"
      ]
    },
    {
      "cell_type": "code",
      "execution_count": null,
      "metadata": {
        "scrolled": true,
        "id": "b3ThWr_NxIKr"
      },
      "outputs": [],
      "source": [
        "model = LogisticRegression()\n",
        "# model = LogisticRegression(C=1e10) # minimize regularization\n",
        "model"
      ]
    },
    {
      "cell_type": "code",
      "execution_count": null,
      "metadata": {
        "id": "XIo0QbO9xIKs"
      },
      "outputs": [],
      "source": [
        "model.fit(X_train, y_train)"
      ]
    },
    {
      "cell_type": "code",
      "execution_count": null,
      "metadata": {
        "scrolled": true,
        "id": "E6pdd1rHxIKs"
      },
      "outputs": [],
      "source": [
        "model.score(X_train, y_train) # accuracy of the model"
      ]
    },
    {
      "cell_type": "code",
      "execution_count": null,
      "metadata": {
        "id": "upkoD1EFxIKs"
      },
      "outputs": [],
      "source": [
        "predicted = model.predict(X_train)\n",
        "predicted"
      ]
    },
    {
      "cell_type": "code",
      "execution_count": null,
      "metadata": {
        "id": "xl3_6LGdxIKt"
      },
      "outputs": [],
      "source": [
        "y_train.values"
      ]
    },
    {
      "cell_type": "markdown",
      "metadata": {
        "collapsed": "false",
        "id": "7uzyzlR6xIKt"
      },
      "source": [
        "## Confusion matrix"
      ]
    },
    {
      "cell_type": "code",
      "execution_count": null,
      "metadata": {
        "id": "XiGKpXmtxIKt"
      },
      "outputs": [],
      "source": [
        "from sklearn import metrics\n",
        "from sklearn.metrics import confusion_matrix, plot_confusion_matrix, classification_report, accuracy_score, precision_score, recall_score, precision_recall_fscore_support, f1_score"
      ]
    },
    {
      "cell_type": "markdown",
      "metadata": {
        "collapsed": "false",
        "id": "LjA29M-XxIKu"
      },
      "source": [
        "### further reading:\n",
        "* https://scikit-learn.org/stable/modules/model_evaluation.html#classification-metrics\n",
        "* https://en.wikipedia.org/wiki/Confusion_matrix"
      ]
    },
    {
      "cell_type": "code",
      "execution_count": null,
      "metadata": {
        "id": "1FgsvFElxIKu"
      },
      "outputs": [],
      "source": [
        "X_train['Hours'].values"
      ]
    },
    {
      "cell_type": "code",
      "execution_count": null,
      "metadata": {
        "id": "gjERVnXWxIKu"
      },
      "outputs": [],
      "source": [
        "y_train.values"
      ]
    },
    {
      "cell_type": "code",
      "execution_count": null,
      "metadata": {
        "id": "C2QSYYBDxIKv"
      },
      "outputs": [],
      "source": [
        "predicted"
      ]
    },
    {
      "cell_type": "code",
      "execution_count": null,
      "metadata": {
        "id": "nEns0uWhxIKw"
      },
      "outputs": [],
      "source": [
        "cm=confusion_matrix(y_train, predicted)\n",
        "cm"
      ]
    },
    {
      "cell_type": "code",
      "execution_count": null,
      "metadata": {
        "id": "DwGLKIgXxIKw"
      },
      "outputs": [],
      "source": [
        "plot_confusion_matrix(model, X_train, y_train, cmap='Oranges')"
      ]
    },
    {
      "cell_type": "markdown",
      "metadata": {
        "collapsed": "false",
        "id": "1_Z-XfzzxIKx"
      },
      "source": [
        "## scikit-learn: confusion matrix\n",
        "$$\n",
        "\\begin{bmatrix}\n",
        "C_{0,0} & C_{0,1} \\\\\n",
        "C_{1,0} & C_{1,1}\n",
        "\\end{bmatrix}\n",
        "=\n",
        "\\begin{bmatrix}\n",
        "tn&fp \\\\\n",
        "fn&tp\n",
        "\\end{bmatrix}\n",
        "$$\n",
        "\n",
        "<table>\n",
        "<tr>\n",
        "    <td></td>\n",
        "    <td>predicted false</td>\n",
        "    <td>predicted true</td>\n",
        "</tr>\n",
        "<tr>\n",
        "    <td>actual false</td>\n",
        "    <td>tn</td>\n",
        "    <td>fp</td>\n",
        "</tr>\n",
        "<tr>\n",
        "    <td>actual true</td>\n",
        "    <td>fn</td>\n",
        "    <td>tp</td>\n",
        "</tr>\n",
        "<table>"
      ]
    },
    {
      "cell_type": "code",
      "execution_count": null,
      "metadata": {
        "id": "Oi-60Hj0xIKx"
      },
      "outputs": [],
      "source": [
        "pd.crosstab(y_train, predicted, rownames=['Actual'], colnames=['Predicted'], margins=True, margins_name='Total')"
      ]
    },
    {
      "cell_type": "code",
      "execution_count": null,
      "metadata": {
        "id": "S6Qe5lCtxIKy"
      },
      "outputs": [],
      "source": [
        "dd=pd.DataFrame({'actual': y_train.values, 'predicted': predicted})\n",
        "dd"
      ]
    },
    {
      "cell_type": "code",
      "execution_count": null,
      "metadata": {
        "id": "RG-MmR6JxIKy"
      },
      "outputs": [],
      "source": [
        "pd.crosstab(dd['actual'], dd['predicted'])"
      ]
    },
    {
      "cell_type": "code",
      "execution_count": null,
      "metadata": {
        "id": "UWUxtxKpxIKy"
      },
      "outputs": [],
      "source": [
        "metrics.confusion_matrix(y_train, predicted)"
      ]
    },
    {
      "cell_type": "code",
      "execution_count": null,
      "metadata": {
        "id": "a425KNLmxIKy"
      },
      "outputs": [],
      "source": [
        "pd.DataFrame(metrics.confusion_matrix(y_train, predicted), \n",
        "             columns=['pred_fail', 'pred_pass'],\n",
        "             index=['actual_fail', 'actual_pass'])"
      ]
    },
    {
      "cell_type": "code",
      "execution_count": null,
      "metadata": {
        "id": "iLoZDkanxIKz"
      },
      "outputs": [],
      "source": [
        "def pretty_confusion_matrix(cm_array):\n",
        "    '''\n",
        "    add labels and grand total to sklearn confusion matrix (2 x 2)\n",
        "    '''\n",
        "    df=pd.DataFrame(cm_array, \n",
        "                   columns=['pred_fail', 'pred_pass'], \n",
        "                   index=['actual_fail', 'actual_pass'])\n",
        "    \n",
        "    index_labels=df.index.tolist()\n",
        "    df=df.append(df.sum(axis=0), ignore_index=True)\n",
        "    df.index=index_labels + ['total']\n",
        "    df['total']=df.sum(axis=1)\n",
        "    return df"
      ]
    },
    {
      "cell_type": "code",
      "execution_count": null,
      "metadata": {
        "id": "SFYohki_xIK0"
      },
      "outputs": [],
      "source": [
        "pretty_confusion_matrix(metrics.confusion_matrix(y_train, predicted))"
      ]
    },
    {
      "cell_type": "code",
      "execution_count": null,
      "metadata": {
        "id": "-DveeDHlxIK0"
      },
      "outputs": [],
      "source": [
        "tn, fp, fn, tp = metrics.confusion_matrix(y_train, predicted).ravel()"
      ]
    },
    {
      "cell_type": "markdown",
      "metadata": {
        "collapsed": "false",
        "id": "f8oOBgbsxIK0"
      },
      "source": [
        "$$Accuracy={\\frac {{TP+TN} }{TP + TN +FP + FN} }\\\\\n",
        "Precision={\\frac {TP}{TP+FP}}\\\\\n",
        "Recall={\\frac {TP}{TP+FN}}\\\\\n",
        "F1 = 2 \\times {\\frac {precision \\times recall} {precision + recall}}\n",
        "$$"
      ]
    },
    {
      "cell_type": "code",
      "execution_count": null,
      "metadata": {
        "id": "L8iHE6WrxIK1"
      },
      "outputs": [],
      "source": [
        "(tp+tn)/(tp+tn+fp+fn) # accuracy score"
      ]
    },
    {
      "cell_type": "code",
      "execution_count": null,
      "metadata": {
        "id": "DG8q5oXHxIK1"
      },
      "outputs": [],
      "source": [
        "metrics.accuracy_score(y_train, predicted)"
      ]
    },
    {
      "cell_type": "code",
      "execution_count": null,
      "metadata": {
        "id": "qxJFZA5mxIK1"
      },
      "outputs": [],
      "source": [
        "metrics.precision_score(y_train, predicted)"
      ]
    },
    {
      "cell_type": "code",
      "execution_count": null,
      "metadata": {
        "id": "I2KxWMemxIK2"
      },
      "outputs": [],
      "source": [
        "tp/(tp+fp) # precision score"
      ]
    },
    {
      "cell_type": "code",
      "execution_count": null,
      "metadata": {
        "id": "RG-VCNDvxIK2"
      },
      "outputs": [],
      "source": [
        "metrics.recall_score(y_train, predicted)"
      ]
    },
    {
      "cell_type": "code",
      "execution_count": null,
      "metadata": {
        "id": "aJxcaaIExIK2"
      },
      "outputs": [],
      "source": [
        "tp/(tp+fn) # recall score"
      ]
    },
    {
      "cell_type": "code",
      "execution_count": null,
      "metadata": {
        "id": "sOllkNIPxIK4"
      },
      "outputs": [],
      "source": [
        "metrics.f1_score(y_train, predicted)"
      ]
    },
    {
      "cell_type": "code",
      "execution_count": null,
      "metadata": {
        "id": "Aq3n3e5hxIK5"
      },
      "outputs": [],
      "source": [
        "print(metrics.classification_report(y_train, predicted))"
      ]
    },
    {
      "cell_type": "code",
      "execution_count": null,
      "metadata": {
        "id": "w1eeyVrgxIK5"
      },
      "outputs": [],
      "source": [
        "tn/(tn+fn) # precision (class=0)"
      ]
    },
    {
      "cell_type": "code",
      "execution_count": null,
      "metadata": {
        "id": "G_y36STLxIK6"
      },
      "outputs": [],
      "source": [
        "tn/(tn+fp) # recall (class=0)"
      ]
    }
  ],
  "metadata": {
    "kernelspec": {
      "display_name": "Python 3",
      "language": "python",
      "name": "python3"
    },
    "language_info": {
      "codemirror_mode": {
        "name": "ipython",
        "version": 3
      },
      "file_extension": ".py",
      "mimetype": "text/x-python",
      "name": "python",
      "nbconvert_exporter": "python",
      "pygments_lexer": "ipython3",
      "version": "3.7.6"
    },
    "colab": {
      "name": "Lab3.2 Confusion_Matrix2.ipynb",
      "provenance": [],
      "include_colab_link": true
    }
  },
  "nbformat": 4,
  "nbformat_minor": 0
}