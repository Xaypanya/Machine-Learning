{
  "nbformat": 4,
  "nbformat_minor": 0,
  "metadata": {
    "colab": {
      "provenance": [],
      "authorship_tag": "ABX9TyOmkMvRISGqk212EoNoEtoy",
      "include_colab_link": true
    },
    "kernelspec": {
      "name": "python3",
      "display_name": "Python 3"
    },
    "language_info": {
      "name": "python"
    }
  },
  "cells": [
    {
      "cell_type": "markdown",
      "metadata": {
        "id": "view-in-github",
        "colab_type": "text"
      },
      "source": [
        "<a href=\"https://colab.research.google.com/github/Xaypanya/Machine-Learning/blob/main/Dummy_variable%2C_Linear_Regression_scikit_learn_%26_statsmodels.ipynb\" target=\"_parent\"><img src=\"https://colab.research.google.com/assets/colab-badge.svg\" alt=\"Open In Colab\"/></a>"
      ]
    },
    {
      "cell_type": "markdown",
      "source": [
        "ເອີ້ນນຳໃຊ້ pandas library ທີ່ເປັນເຄື່ອງມືສຳລັບວິເຄາະ ແລະ ຈັດການຂໍ້ມຸນ"
      ],
      "metadata": {
        "id": "WnGxUdG2ahfN"
      }
    },
    {
      "cell_type": "code",
      "execution_count": 1,
      "metadata": {
        "id": "Da4W02SMaDGg"
      },
      "outputs": [],
      "source": [
        "import pandas as pd"
      ]
    },
    {
      "cell_type": "markdown",
      "source": [
        "ສະແດງເວິຊັ້ນຂອງ pandas ແລະ ສະແດງຂໍ້ມູນທັງໝົດ"
      ],
      "metadata": {
        "id": "spsTdQ7Nbs29"
      }
    },
    {
      "cell_type": "code",
      "source": [
        "print(f'pandas  version: {pd.__version__}') \n",
        "df=pd.read_csv('https://github.com/prasertcbs/tutorial/raw/master/msleep.csv')\n",
        "df\n"
      ],
      "metadata": {
        "colab": {
          "base_uri": "https://localhost:8080/",
          "height": 441
        },
        "id": "A_BjugEfaa62",
        "outputId": "1fc78ebd-9447-412c-ef01-8400ee6a011c"
      },
      "execution_count": 2,
      "outputs": [
        {
          "output_type": "stream",
          "name": "stdout",
          "text": [
            "pandas  version: 1.3.5\n"
          ]
        },
        {
          "output_type": "execute_result",
          "data": {
            "text/plain": [
              "                          name       genus   vore         order  conservation  \\\n",
              "0                      Cheetah    Acinonyx  carni     Carnivora            lc   \n",
              "1                   Owl monkey       Aotus   omni      Primates           NaN   \n",
              "2              Mountain beaver  Aplodontia  herbi      Rodentia            nt   \n",
              "3   Greater short-tailed shrew     Blarina   omni  Soricomorpha            lc   \n",
              "4                          Cow         Bos  herbi  Artiodactyla  domesticated   \n",
              "..                         ...         ...    ...           ...           ...   \n",
              "78                  Tree shrew      Tupaia   omni    Scandentia           NaN   \n",
              "79        Bottle-nosed dolphin    Tursiops  carni       Cetacea           NaN   \n",
              "80                       Genet     Genetta  carni     Carnivora           NaN   \n",
              "81                  Arctic fox      Vulpes  carni     Carnivora           NaN   \n",
              "82                     Red fox      Vulpes  carni     Carnivora           NaN   \n",
              "\n",
              "    sleep_total  sleep_rem  sleep_cycle  awake  brainwt   bodywt  \n",
              "0          12.1        NaN          NaN   11.9      NaN   50.000  \n",
              "1          17.0        1.8          NaN    7.0  0.01550    0.480  \n",
              "2          14.4        2.4          NaN    9.6      NaN    1.350  \n",
              "3          14.9        2.3     0.133333    9.1  0.00029    0.019  \n",
              "4           4.0        0.7     0.666667   20.0  0.42300  600.000  \n",
              "..          ...        ...          ...    ...      ...      ...  \n",
              "78          8.9        2.6     0.233333   15.1  0.00250    0.104  \n",
              "79          5.2        NaN          NaN   18.8      NaN  173.330  \n",
              "80          6.3        1.3          NaN   17.7  0.01750    2.000  \n",
              "81         12.5        NaN          NaN   11.5  0.04450    3.380  \n",
              "82          9.8        2.4     0.350000   14.2  0.05040    4.230  \n",
              "\n",
              "[83 rows x 11 columns]"
            ],
            "text/html": [
              "\n",
              "  <div id=\"df-6aec5a81-dcca-42e7-b112-19b681345f58\">\n",
              "    <div class=\"colab-df-container\">\n",
              "      <div>\n",
              "<style scoped>\n",
              "    .dataframe tbody tr th:only-of-type {\n",
              "        vertical-align: middle;\n",
              "    }\n",
              "\n",
              "    .dataframe tbody tr th {\n",
              "        vertical-align: top;\n",
              "    }\n",
              "\n",
              "    .dataframe thead th {\n",
              "        text-align: right;\n",
              "    }\n",
              "</style>\n",
              "<table border=\"1\" class=\"dataframe\">\n",
              "  <thead>\n",
              "    <tr style=\"text-align: right;\">\n",
              "      <th></th>\n",
              "      <th>name</th>\n",
              "      <th>genus</th>\n",
              "      <th>vore</th>\n",
              "      <th>order</th>\n",
              "      <th>conservation</th>\n",
              "      <th>sleep_total</th>\n",
              "      <th>sleep_rem</th>\n",
              "      <th>sleep_cycle</th>\n",
              "      <th>awake</th>\n",
              "      <th>brainwt</th>\n",
              "      <th>bodywt</th>\n",
              "    </tr>\n",
              "  </thead>\n",
              "  <tbody>\n",
              "    <tr>\n",
              "      <th>0</th>\n",
              "      <td>Cheetah</td>\n",
              "      <td>Acinonyx</td>\n",
              "      <td>carni</td>\n",
              "      <td>Carnivora</td>\n",
              "      <td>lc</td>\n",
              "      <td>12.1</td>\n",
              "      <td>NaN</td>\n",
              "      <td>NaN</td>\n",
              "      <td>11.9</td>\n",
              "      <td>NaN</td>\n",
              "      <td>50.000</td>\n",
              "    </tr>\n",
              "    <tr>\n",
              "      <th>1</th>\n",
              "      <td>Owl monkey</td>\n",
              "      <td>Aotus</td>\n",
              "      <td>omni</td>\n",
              "      <td>Primates</td>\n",
              "      <td>NaN</td>\n",
              "      <td>17.0</td>\n",
              "      <td>1.8</td>\n",
              "      <td>NaN</td>\n",
              "      <td>7.0</td>\n",
              "      <td>0.01550</td>\n",
              "      <td>0.480</td>\n",
              "    </tr>\n",
              "    <tr>\n",
              "      <th>2</th>\n",
              "      <td>Mountain beaver</td>\n",
              "      <td>Aplodontia</td>\n",
              "      <td>herbi</td>\n",
              "      <td>Rodentia</td>\n",
              "      <td>nt</td>\n",
              "      <td>14.4</td>\n",
              "      <td>2.4</td>\n",
              "      <td>NaN</td>\n",
              "      <td>9.6</td>\n",
              "      <td>NaN</td>\n",
              "      <td>1.350</td>\n",
              "    </tr>\n",
              "    <tr>\n",
              "      <th>3</th>\n",
              "      <td>Greater short-tailed shrew</td>\n",
              "      <td>Blarina</td>\n",
              "      <td>omni</td>\n",
              "      <td>Soricomorpha</td>\n",
              "      <td>lc</td>\n",
              "      <td>14.9</td>\n",
              "      <td>2.3</td>\n",
              "      <td>0.133333</td>\n",
              "      <td>9.1</td>\n",
              "      <td>0.00029</td>\n",
              "      <td>0.019</td>\n",
              "    </tr>\n",
              "    <tr>\n",
              "      <th>4</th>\n",
              "      <td>Cow</td>\n",
              "      <td>Bos</td>\n",
              "      <td>herbi</td>\n",
              "      <td>Artiodactyla</td>\n",
              "      <td>domesticated</td>\n",
              "      <td>4.0</td>\n",
              "      <td>0.7</td>\n",
              "      <td>0.666667</td>\n",
              "      <td>20.0</td>\n",
              "      <td>0.42300</td>\n",
              "      <td>600.000</td>\n",
              "    </tr>\n",
              "    <tr>\n",
              "      <th>...</th>\n",
              "      <td>...</td>\n",
              "      <td>...</td>\n",
              "      <td>...</td>\n",
              "      <td>...</td>\n",
              "      <td>...</td>\n",
              "      <td>...</td>\n",
              "      <td>...</td>\n",
              "      <td>...</td>\n",
              "      <td>...</td>\n",
              "      <td>...</td>\n",
              "      <td>...</td>\n",
              "    </tr>\n",
              "    <tr>\n",
              "      <th>78</th>\n",
              "      <td>Tree shrew</td>\n",
              "      <td>Tupaia</td>\n",
              "      <td>omni</td>\n",
              "      <td>Scandentia</td>\n",
              "      <td>NaN</td>\n",
              "      <td>8.9</td>\n",
              "      <td>2.6</td>\n",
              "      <td>0.233333</td>\n",
              "      <td>15.1</td>\n",
              "      <td>0.00250</td>\n",
              "      <td>0.104</td>\n",
              "    </tr>\n",
              "    <tr>\n",
              "      <th>79</th>\n",
              "      <td>Bottle-nosed dolphin</td>\n",
              "      <td>Tursiops</td>\n",
              "      <td>carni</td>\n",
              "      <td>Cetacea</td>\n",
              "      <td>NaN</td>\n",
              "      <td>5.2</td>\n",
              "      <td>NaN</td>\n",
              "      <td>NaN</td>\n",
              "      <td>18.8</td>\n",
              "      <td>NaN</td>\n",
              "      <td>173.330</td>\n",
              "    </tr>\n",
              "    <tr>\n",
              "      <th>80</th>\n",
              "      <td>Genet</td>\n",
              "      <td>Genetta</td>\n",
              "      <td>carni</td>\n",
              "      <td>Carnivora</td>\n",
              "      <td>NaN</td>\n",
              "      <td>6.3</td>\n",
              "      <td>1.3</td>\n",
              "      <td>NaN</td>\n",
              "      <td>17.7</td>\n",
              "      <td>0.01750</td>\n",
              "      <td>2.000</td>\n",
              "    </tr>\n",
              "    <tr>\n",
              "      <th>81</th>\n",
              "      <td>Arctic fox</td>\n",
              "      <td>Vulpes</td>\n",
              "      <td>carni</td>\n",
              "      <td>Carnivora</td>\n",
              "      <td>NaN</td>\n",
              "      <td>12.5</td>\n",
              "      <td>NaN</td>\n",
              "      <td>NaN</td>\n",
              "      <td>11.5</td>\n",
              "      <td>0.04450</td>\n",
              "      <td>3.380</td>\n",
              "    </tr>\n",
              "    <tr>\n",
              "      <th>82</th>\n",
              "      <td>Red fox</td>\n",
              "      <td>Vulpes</td>\n",
              "      <td>carni</td>\n",
              "      <td>Carnivora</td>\n",
              "      <td>NaN</td>\n",
              "      <td>9.8</td>\n",
              "      <td>2.4</td>\n",
              "      <td>0.350000</td>\n",
              "      <td>14.2</td>\n",
              "      <td>0.05040</td>\n",
              "      <td>4.230</td>\n",
              "    </tr>\n",
              "  </tbody>\n",
              "</table>\n",
              "<p>83 rows × 11 columns</p>\n",
              "</div>\n",
              "      <button class=\"colab-df-convert\" onclick=\"convertToInteractive('df-6aec5a81-dcca-42e7-b112-19b681345f58')\"\n",
              "              title=\"Convert this dataframe to an interactive table.\"\n",
              "              style=\"display:none;\">\n",
              "        \n",
              "  <svg xmlns=\"http://www.w3.org/2000/svg\" height=\"24px\"viewBox=\"0 0 24 24\"\n",
              "       width=\"24px\">\n",
              "    <path d=\"M0 0h24v24H0V0z\" fill=\"none\"/>\n",
              "    <path d=\"M18.56 5.44l.94 2.06.94-2.06 2.06-.94-2.06-.94-.94-2.06-.94 2.06-2.06.94zm-11 1L8.5 8.5l.94-2.06 2.06-.94-2.06-.94L8.5 2.5l-.94 2.06-2.06.94zm10 10l.94 2.06.94-2.06 2.06-.94-2.06-.94-.94-2.06-.94 2.06-2.06.94z\"/><path d=\"M17.41 7.96l-1.37-1.37c-.4-.4-.92-.59-1.43-.59-.52 0-1.04.2-1.43.59L10.3 9.45l-7.72 7.72c-.78.78-.78 2.05 0 2.83L4 21.41c.39.39.9.59 1.41.59.51 0 1.02-.2 1.41-.59l7.78-7.78 2.81-2.81c.8-.78.8-2.07 0-2.86zM5.41 20L4 18.59l7.72-7.72 1.47 1.35L5.41 20z\"/>\n",
              "  </svg>\n",
              "      </button>\n",
              "      \n",
              "  <style>\n",
              "    .colab-df-container {\n",
              "      display:flex;\n",
              "      flex-wrap:wrap;\n",
              "      gap: 12px;\n",
              "    }\n",
              "\n",
              "    .colab-df-convert {\n",
              "      background-color: #E8F0FE;\n",
              "      border: none;\n",
              "      border-radius: 50%;\n",
              "      cursor: pointer;\n",
              "      display: none;\n",
              "      fill: #1967D2;\n",
              "      height: 32px;\n",
              "      padding: 0 0 0 0;\n",
              "      width: 32px;\n",
              "    }\n",
              "\n",
              "    .colab-df-convert:hover {\n",
              "      background-color: #E2EBFA;\n",
              "      box-shadow: 0px 1px 2px rgba(60, 64, 67, 0.3), 0px 1px 3px 1px rgba(60, 64, 67, 0.15);\n",
              "      fill: #174EA6;\n",
              "    }\n",
              "\n",
              "    [theme=dark] .colab-df-convert {\n",
              "      background-color: #3B4455;\n",
              "      fill: #D2E3FC;\n",
              "    }\n",
              "\n",
              "    [theme=dark] .colab-df-convert:hover {\n",
              "      background-color: #434B5C;\n",
              "      box-shadow: 0px 1px 3px 1px rgba(0, 0, 0, 0.15);\n",
              "      filter: drop-shadow(0px 1px 2px rgba(0, 0, 0, 0.3));\n",
              "      fill: #FFFFFF;\n",
              "    }\n",
              "  </style>\n",
              "\n",
              "      <script>\n",
              "        const buttonEl =\n",
              "          document.querySelector('#df-6aec5a81-dcca-42e7-b112-19b681345f58 button.colab-df-convert');\n",
              "        buttonEl.style.display =\n",
              "          google.colab.kernel.accessAllowed ? 'block' : 'none';\n",
              "\n",
              "        async function convertToInteractive(key) {\n",
              "          const element = document.querySelector('#df-6aec5a81-dcca-42e7-b112-19b681345f58');\n",
              "          const dataTable =\n",
              "            await google.colab.kernel.invokeFunction('convertToInteractive',\n",
              "                                                     [key], {});\n",
              "          if (!dataTable) return;\n",
              "\n",
              "          const docLinkHtml = 'Like what you see? Visit the ' +\n",
              "            '<a target=\"_blank\" href=https://colab.research.google.com/notebooks/data_table.ipynb>data table notebook</a>'\n",
              "            + ' to learn more about interactive tables.';\n",
              "          element.innerHTML = '';\n",
              "          dataTable['output_type'] = 'display_data';\n",
              "          await google.colab.output.renderOutput(dataTable, element);\n",
              "          const docLink = document.createElement('div');\n",
              "          docLink.innerHTML = docLinkHtml;\n",
              "          element.appendChild(docLink);\n",
              "        }\n",
              "      </script>\n",
              "    </div>\n",
              "  </div>\n",
              "  "
            ]
          },
          "metadata": {},
          "execution_count": 2
        }
      ]
    },
    {
      "cell_type": "code",
      "source": [
        "df.info()"
      ],
      "metadata": {
        "colab": {
          "base_uri": "https://localhost:8080/"
        },
        "id": "QpsxidSDb77t",
        "outputId": "2e78b2fd-8215-428f-a73d-053821258f0b"
      },
      "execution_count": 3,
      "outputs": [
        {
          "output_type": "stream",
          "name": "stdout",
          "text": [
            "<class 'pandas.core.frame.DataFrame'>\n",
            "RangeIndex: 83 entries, 0 to 82\n",
            "Data columns (total 11 columns):\n",
            " #   Column        Non-Null Count  Dtype  \n",
            "---  ------        --------------  -----  \n",
            " 0   name          83 non-null     object \n",
            " 1   genus         83 non-null     object \n",
            " 2   vore          76 non-null     object \n",
            " 3   order         83 non-null     object \n",
            " 4   conservation  54 non-null     object \n",
            " 5   sleep_total   83 non-null     float64\n",
            " 6   sleep_rem     61 non-null     float64\n",
            " 7   sleep_cycle   32 non-null     float64\n",
            " 8   awake         83 non-null     float64\n",
            " 9   brainwt       56 non-null     float64\n",
            " 10  bodywt        83 non-null     float64\n",
            "dtypes: float64(6), object(5)\n",
            "memory usage: 7.3+ KB\n"
          ]
        }
      ]
    },
    {
      "cell_type": "code",
      "source": [
        "### check NA in 'vore'column\n",
        "df[df.vore.isna()]"
      ],
      "metadata": {
        "id": "fKTqPl0dcEJB"
      },
      "execution_count": null,
      "outputs": []
    },
    {
      "cell_type": "code",
      "source": [
        "df.dropna(subset=['vore'], axis='index', inplace=True)\n",
        "df\n"
      ],
      "metadata": {
        "id": "KIWvDZmkcHfU"
      },
      "execution_count": null,
      "outputs": []
    },
    {
      "cell_type": "code",
      "source": [
        "### create das\n",
        "dummies=pd.get_dummies(df['vore'])\n",
        "dummies\n"
      ],
      "metadata": {
        "id": "wo5j-CRdcIld"
      },
      "execution_count": null,
      "outputs": []
    },
    {
      "cell_type": "markdown",
      "source": [],
      "metadata": {
        "id": "ynf-Np7_bryC"
      }
    }
  ]
}